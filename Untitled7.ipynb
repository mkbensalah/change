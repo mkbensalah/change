{
  "nbformat": 4,
  "nbformat_minor": 0,
  "metadata": {
    "colab": {
      "name": "Untitled7.ipynb",
      "provenance": [],
      "collapsed_sections": [],
      "include_colab_link": true
    },
    "kernelspec": {
      "name": "python3",
      "display_name": "Python 3"
    }
  },
  "cells": [
    {
      "cell_type": "markdown",
      "metadata": {
        "id": "view-in-github",
        "colab_type": "text"
      },
      "source": [
        "<a href=\"https://colab.research.google.com/github/mkbensalah/change/blob/master/Untitled7.ipynb\" target=\"_parent\"><img src=\"https://colab.research.google.com/assets/colab-badge.svg\" alt=\"Open In Colab\"/></a>"
      ]
    },
    {
      "cell_type": "code",
      "metadata": {
        "id": "mPjYThNS_7Gx",
        "colab_type": "code",
        "colab": {
          "base_uri": "https://localhost:8080/",
          "height": 51
        },
        "outputId": "09358934-3c3f-4aec-f8ff-e31efe8782b3"
      },
      "source": [
        "pip install spectral"
      ],
      "execution_count": 118,
      "outputs": [
        {
          "output_type": "stream",
          "text": [
            "Requirement already satisfied: spectral in /usr/local/lib/python3.6/dist-packages (0.21)\n",
            "Requirement already satisfied: numpy in /usr/local/lib/python3.6/dist-packages (from spectral) (1.18.5)\n"
          ],
          "name": "stdout"
        }
      ]
    },
    {
      "cell_type": "code",
      "metadata": {
        "id": "ajxzQhWOD-3q",
        "colab_type": "code",
        "colab": {}
      },
      "source": [
        "import os\n",
        "import random\n",
        "import itertools\n",
        "from random import shuffle\n",
        "import h5py\n",
        "import json\n",
        "import tensorflow as tf\n",
        "\n",
        "import numpy as np\n",
        "import scipy\n",
        "import scipy.io as sio # Scipy input and output\n",
        "import scipy.ndimage \n",
        "from skimage.transform import rotate \n",
        "import spectral # Module for processing hyperspectral image data.\n",
        "import matplotlib \n",
        "%matplotlib inline\n",
        "\n",
        "# scikit-learn imports \n",
        "from sklearn.decomposition import PCA\n",
        "from sklearn.model_selection import train_test_split\n",
        "from sklearn import preprocessing\n",
        "from sklearn.metrics import classification_report, confusion_matrix\n",
        "\n",
        "# keras imports \n",
        "import keras\n",
        "from tensorflow.keras import layers\n",
        "from keras.models import Sequential\n",
        "from keras.layers import Dense, Dropout, Flatten\n",
        "from keras.layers import Conv2D, MaxPooling2D, ConvLSTM2D, TimeDistributed\n",
        "from keras.optimizers import SGD\n",
        "from keras.models import load_model\n",
        "from keras import backend as K\n",
        "from keras.utils import np_utils"
      ],
      "execution_count": 232,
      "outputs": []
    },
    {
      "cell_type": "code",
      "metadata": {
        "id": "I-YKKfCiHcbL",
        "colab_type": "code",
        "colab": {}
      },
      "source": [
        "def  load_dataset(dataset):\n",
        "    \"\"\"load dataset parameters from config.json\"\"\"\n",
        "    \n",
        "    with open('/content/config.json') as f:\n",
        "        config = json.loads(f.read())\n",
        "        params = config[dataset]\n",
        "        data_1 = sio.loadmat(params['img_path_1'])['Data2009']\n",
        "        data_2 = sio.loadmat(params['img_path_2'])['Data2015']\n",
        "        labels = sio.loadmat(params['gt_path'])['GT_end']\n",
        "        \n",
        "        \n",
        "    return data_1, data_2, labels"
      ],
      "execution_count": 233,
      "outputs": []
    },
    {
      "cell_type": "code",
      "metadata": {
        "id": "x08Nh6uXKIA7",
        "colab_type": "code",
        "colab": {}
      },
      "source": [
        "data_1, data_2 , labels= load_dataset(\"Indian_pines\")\n",
        "\n"
      ],
      "execution_count": 234,
      "outputs": []
    },
    {
      "cell_type": "code",
      "metadata": {
        "id": "4PXwFUORIdCn",
        "colab_type": "code",
        "colab": {}
      },
      "source": [
        "def apply_pca(X, num_components=75):\n",
        "    \"\"\"apply pca to X and return new_X\"\"\"\n",
        "    \n",
        "    new_X = np.reshape(X, (-1, X.shape[2]))\n",
        "    pca = PCA(n_components=num_components, whiten=True)\n",
        "    new_X = pca.fit_transform(new_X)\n",
        "    new_X = np.reshape(new_X, (X.shape[0],X.shape[1], num_components))\n",
        "    return new_X, pca"
      ],
      "execution_count": 235,
      "outputs": []
    },
    {
      "cell_type": "code",
      "metadata": {
        "id": "Gpwbhe08Ie_A",
        "colab_type": "code",
        "colab": {}
      },
      "source": [
        "def pad_with_zeros(X, margin=2):\n",
        "    \"\"\"apply zero padding to X with margin\"\"\"\n",
        "    \n",
        "    new_X = np.zeros((X.shape[0] + 2 * margin, X.shape[1] + 2* margin, X.shape[2]))\n",
        "    x_offset = margin\n",
        "    y_offset = margin\n",
        "    new_X[x_offset:X.shape[0] + x_offset, y_offset:X.shape[1] + y_offset, :] = X\n",
        "    return new_X"
      ],
      "execution_count": 236,
      "outputs": []
    },
    {
      "cell_type": "code",
      "metadata": {
        "id": "3FGTNOUpLdxE",
        "colab_type": "code",
        "colab": {}
      },
      "source": [
        "def create_patches(X, y, window_size=7, remove_zero_labels = True):\n",
        "    \"\"\"create patch from image. suppose the image has the shape (w,h,c) then the patch shape is\n",
        "    (w*h,window_size,window_size,c)\"\"\"\n",
        "    \n",
        "    margin = int((window_size - 1) / 2)\n",
        "    zero_padded_X = pad_with_zeros(X, margin=margin)\n",
        "    # split patches\n",
        "    patches_data = np.zeros((X.shape[0] * X.shape[1], window_size, window_size, X.shape[2]))\n",
        "    patchs_labels = np.zeros((X.shape[0] * X.shape[1]))\n",
        "    patch_index = 0\n",
        "    for r in range(margin, zero_padded_X.shape[0] - margin):\n",
        "        for c in range(margin, zero_padded_X.shape[1] - margin):\n",
        "            patch = zero_padded_X[r - margin:r + margin + 1, c - margin:c + margin + 1]   \n",
        "            patches_data[patch_index, :, :, :] = patch\n",
        "            patchs_labels[patch_index] = y[r-margin, c-margin] + 1\n",
        "            patch_index = patch_index + 1\n",
        "            \n",
        "    if remove_zero_labels:\n",
        "        patches_data = patches_data[patchs_labels>0,:,:,:]\n",
        "        patchs_labels = patchs_labels[patchs_labels>0]\n",
        "        patchs_labels -= 1\n",
        "    return patches_data, patchs_labels"
      ],
      "execution_count": 237,
      "outputs": []
    },
    {
      "cell_type": "code",
      "metadata": {
        "id": "2f5hoZfNL8_A",
        "colab_type": "code",
        "colab": {}
      },
      "source": [
        "def split_train_test_set(X, y, test_ratio=0.10):\n",
        "    \"\"\"split dataset into train set and test set with test_ratio\"\"\"\n",
        "    X_train, X_test, y_train, y_test = train_test_split(X, y, test_size=test_ratio, random_state=345,\n",
        "                                                        stratify=y)\n",
        "    return X_train, X_test, y_train, y_test"
      ],
      "execution_count": 238,
      "outputs": []
    },
    {
      "cell_type": "code",
      "metadata": {
        "id": "ETuYhSI1L-1Z",
        "colab_type": "code",
        "colab": {}
      },
      "source": [
        "def oversample_weak_classes(X, y):\n",
        "    \"\"\"\"balance the dataset by prforming oversample of weak classes (making each class have close labels_counts)\"\"\"\n",
        "    unique_labels, labels_counts = np.unique(y, return_counts=True)\n",
        "    \n",
        "    print(unique_labels.shape)\n",
        "    print(unique_labels)\n",
        "    print(labels_counts.shape)\n",
        "    print(labels_counts)\n",
        "    max_count = np.max(labels_counts)\n",
        "    labels_inverse_ratios = max_count / labels_counts  \n",
        "    #print(labels_inverse_ratios)\n",
        "    # repeat for every label and concat\n",
        "    print(labels_inverse_ratios)\n",
        "    new_X = X[y == unique_labels[0], :, :, :].repeat(round(labels_inverse_ratios[0]), axis=0)\n",
        "    new_Y = y[y == unique_labels[0]].repeat(round(labels_inverse_ratios[0]), axis=0)\n",
        "    for label, labelInverseRatio in zip(unique_labels[1:], labels_inverse_ratios[1:]):\n",
        "        cX = X[y== label,:,:,:].repeat(round(labelInverseRatio), axis=0)\n",
        "        cY = y[y == label].repeat(round(labelInverseRatio), axis=0)\n",
        "        new_X = np.concatenate((new_X, cX))\n",
        "        new_Y = np.concatenate((new_Y, cY))\n",
        "    np.random.seed(seed=42)\n",
        "    rand_perm = np.random.permutation(new_Y.shape[0])\n",
        "    new_X = new_X[rand_perm, :, :, :]\n",
        "    new_Y = new_Y[rand_perm]\n",
        "    unique_labels, labels_counts = np.unique(new_Y, return_counts=True)\n",
        "    \n",
        "#     print(unique_labels.shape)\n",
        "#     print(unique_labels)\n",
        "#     print(labels_counts.shape)\n",
        "#     print(labels_counts)\n",
        "    return new_X, new_Y"
      ],
      "execution_count": 239,
      "outputs": []
    },
    {
      "cell_type": "code",
      "metadata": {
        "id": "14mXaJw8I2tt",
        "colab_type": "code",
        "colab": {}
      },
      "source": [
        "def augment_data(X_train):\n",
        "    \"\"\"augment the data by taking each patch and randomly performing \n",
        "    a flip(up/down or right/left) or a rotation\"\"\"\n",
        "    \n",
        "    for i in range(int(X_train.shape[0]/2)):\n",
        "        patch = X_train[i,:,:,:]\n",
        "        num = random.randint(0,2)\n",
        "        if (num == 0):\n",
        "            \n",
        "            flipped_patch = np.flipud(patch)\n",
        "        if (num == 1):\n",
        "            \n",
        "            flipped_patch = np.fliplr(patch)\n",
        "        if (num == 2):\n",
        "            \n",
        "            no = random.randrange(-180,180,30)\n",
        "            flipped_patch = scipy.ndimage.interpolation.rotate(patch, no,axes=(1, 0),\n",
        "                                                               reshape=False, output=None, order=3, mode='constant', cval=0.0, prefilter=False)\n",
        "    \n",
        "    \n",
        "        patch2 = flipped_patch\n",
        "        X_train[i,:,:,:] = patch2\n",
        "    \n",
        "    return X_train"
      ],
      "execution_count": 240,
      "outputs": []
    },
    {
      "cell_type": "code",
      "metadata": {
        "id": "dhZjzEabJBmF",
        "colab_type": "code",
        "colab": {}
      },
      "source": [
        "#Parameters\n",
        "dataset = \"Indian_pines\" # Indian_pines or PaviaU or or Salinas  . check config.json\n",
        "window_size = 7\n",
        "num_pca_components = 30\n",
        "test_ratio = 0.25"
      ],
      "execution_count": 241,
      "outputs": []
    },
    {
      "cell_type": "code",
      "metadata": {
        "id": "i1owCWClNK9V",
        "colab_type": "code",
        "colab": {
          "base_uri": "https://localhost:8080/",
          "height": 289
        },
        "outputId": "1621137a-72d2-488f-8c63-5d7d3abbeffb"
      },
      "source": [
        "X_1, X_2, y = load_dataset(dataset)\n",
        "\n",
        "X_1,pca = apply_pca(X_1,num_pca_components)\n",
        "X_1_patches, y_patches = create_patches(X_1, y, window_size=window_size)\n",
        "X_1_train, X_1_test, y_1_train, y_test = split_train_test_set(X_1_patches, y_patches, test_ratio)\n",
        "X_1_train, y_1_train = oversample_weak_classes(X_1_train, y_1_train)\n",
        "X_1_train = augment_data(X_1_train)\n",
        "\n",
        "X_2,pca = apply_pca(X_2,num_pca_components)\n",
        "X_2_patches, y_patches = create_patches(X_2, y, window_size=window_size)\n",
        "X_2_train, X_2_test, y_train, y_test = split_train_test_set(X_2_patches, y_patches, test_ratio)\n",
        "X_2_train, y_train = oversample_weak_classes(X_2_train, y_train)\n",
        "X_2_train = augment_data(X_2_train)\n",
        "\n",
        "\n",
        "\n",
        "\n",
        "\n",
        "\n",
        "\n",
        "y_train = np_utils.to_categorical(y_train) # convert class labels to on-hot encoding\n",
        "y_test = np_utils.to_categorical(y_test)\n",
        "y_train = y_train[:,-1]\n",
        "print(X_1_train.shape)\n",
        "print(X_1_train.ndim)\n",
        "print(X_2_train.shape)\n",
        "print(X_2_train.ndim)\n",
        "print(y_train.shape)\n",
        "print(y_train.ndim)\n"
      ],
      "execution_count": 295,
      "outputs": [
        {
          "output_type": "stream",
          "text": [
            "(2,)\n",
            "[0. 1.]\n",
            "(2,)\n",
            "[27424  2576]\n",
            "[ 1.         10.64596273]\n",
            "(2,)\n",
            "[0. 1.]\n",
            "(2,)\n",
            "[27424  2576]\n",
            "[ 1.         10.64596273]\n",
            "(55760, 7, 7, 30)\n",
            "4\n",
            "(55760, 7, 7, 30)\n",
            "4\n",
            "(55760,)\n",
            "1\n"
          ],
          "name": "stdout"
        }
      ]
    },
    {
      "cell_type": "code",
      "metadata": {
        "id": "yT9IX1wYtHRL",
        "colab_type": "code",
        "colab": {
          "base_uri": "https://localhost:8080/",
          "height": 85
        },
        "outputId": "2c6ed5cb-9bb5-41b7-f8e4-07e72eb90437"
      },
      "source": [
        "data = np.zeros(shape=(55760,2,7,7,30))\n",
        "labels = np.zeros(shape=(55760,1))\n",
        "labels = y_train\n",
        "data_1 = np.array([X_1_train[0], X_2_train[0]])\n",
        "data[0] = data_1\n",
        "for i in range(1, 55760):\n",
        "  x = np.array([X_1_train[i], X_2_train[i]])\n",
        "\n",
        "  data[i] = x\n",
        "print(data.shape)\n",
        "print(data.ndim)\n",
        "\n",
        "print(y_train.shape)\n",
        "print(y_train.ndim)\n"
      ],
      "execution_count": 296,
      "outputs": [
        {
          "output_type": "stream",
          "text": [
            "(55760, 2, 7, 7, 30)\n",
            "5\n",
            "(55760,)\n",
            "1\n"
          ],
          "name": "stdout"
        }
      ]
    },
    {
      "cell_type": "code",
      "metadata": {
        "id": "2Z-biiS6JL9U",
        "colab_type": "code",
        "colab": {}
      },
      "source": [
        "def define_model() :\n",
        "    \n",
        "    \n",
        "    input_shape= X_train[0].shape # Define the input shape \n",
        "    C1 = 3*num_pca_components # number of filters\n",
        "    \n",
        "    model = Sequential()\n",
        "    model.add(TimeDistributed(Conv2D(C1, (3, 3), padding='same',activation='relu'), input_shape=(2,7,7,30)))\n",
        "    model.add(TimeDistributed(MaxPooling2D(2,2)))\n",
        "    model.add(TimeDistributed(Conv2D(3*C1, (3, 3), padding='same', activation='relu')))\n",
        "    model.add(ConvLSTM2D(16,kernel_size = (3, 3),padding = 'same', return_sequences = True))\n",
        "    model.add(ConvLSTM2D(32, kernel_size = (3, 3), padding = 'same', return_sequences = False))\n",
        "    model.add(Flatten())\n",
        "    model.add(Dense(1, activation='sigmoid'))\n",
        "    \n",
        "    print(input_shape)\n",
        "    sgd = SGD(lr=0.0001, decay=1e-6, momentum=0.9, nesterov=True)\n",
        "    model.compile(loss='binary_crossentropy', optimizer='adam', metrics=['accuracy'])\n",
        "    \n",
        "    return model"
      ],
      "execution_count": 209,
      "outputs": []
    },
    {
      "cell_type": "code",
      "metadata": {
        "id": "__G2of_tJN1R",
        "colab_type": "code",
        "colab": {
          "base_uri": "https://localhost:8080/",
          "height": 408
        },
        "outputId": "c5513adc-4b28-480c-966e-55d735291e38"
      },
      "source": [
        "model = define_model()\n",
        "\n",
        "model.summary()"
      ],
      "execution_count": 210,
      "outputs": [
        {
          "output_type": "stream",
          "text": [
            "(7, 7, 30)\n",
            "Model: \"sequential_46\"\n",
            "_________________________________________________________________\n",
            "Layer (type)                 Output Shape              Param #   \n",
            "=================================================================\n",
            "time_distributed_50 (TimeDis (None, 2, 7, 7, 90)       24390     \n",
            "_________________________________________________________________\n",
            "time_distributed_51 (TimeDis (None, 2, 3, 3, 90)       0         \n",
            "_________________________________________________________________\n",
            "time_distributed_52 (TimeDis (None, 2, 3, 3, 270)      218970    \n",
            "_________________________________________________________________\n",
            "conv_lst_m2d_13 (ConvLSTM2D) (None, 2, 3, 3, 16)       164800    \n",
            "_________________________________________________________________\n",
            "conv_lst_m2d_14 (ConvLSTM2D) (None, 3, 3, 32)          55424     \n",
            "_________________________________________________________________\n",
            "flatten_16 (Flatten)         (None, 288)               0         \n",
            "_________________________________________________________________\n",
            "dense_30 (Dense)             (None, 1)                 289       \n",
            "=================================================================\n",
            "Total params: 463,873\n",
            "Trainable params: 463,873\n",
            "Non-trainable params: 0\n",
            "_________________________________________________________________\n"
          ],
          "name": "stdout"
        }
      ]
    },
    {
      "cell_type": "code",
      "metadata": {
        "id": "wTulfpEsJUYT",
        "colab_type": "code",
        "colab": {
          "base_uri": "https://localhost:8080/",
          "height": 85
        },
        "outputId": "c84e294d-3b56-4365-82e0-56742ab4a130"
      },
      "source": [
        "# We have already trained the model\n",
        "data_1 = np.array([X_train[0], X_train[1]])\n",
        "\n",
        "data_2= np.array([X_train[2], X_train[3]])\n",
        "\n",
        "data = np.array([data_1, data_2])\n",
        "\n",
        "print(data.shape)\n",
        "print(data.ndim)\n",
        "labels =np.array([y_train[0], y_train[1]])\n",
        "print(labels.shape)\n",
        "print(labels.ndim)\n"
      ],
      "execution_count": 231,
      "outputs": [
        {
          "output_type": "stream",
          "text": [
            "(2, 2, 7, 7, 30)\n",
            "5\n",
            "(2,)\n",
            "1\n"
          ],
          "name": "stdout"
        }
      ]
    },
    {
      "cell_type": "code",
      "metadata": {
        "id": "mPtRTMdankeR",
        "colab_type": "code",
        "colab": {
          "base_uri": "https://localhost:8080/",
          "height": 544
        },
        "outputId": "5b3025cf-df53-4853-b773-78790059e597"
      },
      "source": [
        "model.fit(data, labels, batch_size=32, epochs=15)"
      ],
      "execution_count": 297,
      "outputs": [
        {
          "output_type": "stream",
          "text": [
            "Epoch 1/15\n",
            "55760/55760 [==============================] - 217s 4ms/step - loss: 0.1122 - accuracy: 0.9617\n",
            "Epoch 2/15\n",
            "55760/55760 [==============================] - 219s 4ms/step - loss: 0.0643 - accuracy: 0.9785\n",
            "Epoch 3/15\n",
            "55760/55760 [==============================] - 224s 4ms/step - loss: 0.0601 - accuracy: 0.9794\n",
            "Epoch 4/15\n",
            "55760/55760 [==============================] - 220s 4ms/step - loss: 0.0525 - accuracy: 0.9820\n",
            "Epoch 5/15\n",
            "55760/55760 [==============================] - 213s 4ms/step - loss: 0.0631 - accuracy: 0.9784\n",
            "Epoch 6/15\n",
            "55760/55760 [==============================] - 211s 4ms/step - loss: 0.0674 - accuracy: 0.9768\n",
            "Epoch 7/15\n",
            "55760/55760 [==============================] - 211s 4ms/step - loss: 0.0682 - accuracy: 0.9760\n",
            "Epoch 8/15\n",
            "55760/55760 [==============================] - 211s 4ms/step - loss: 0.0666 - accuracy: 0.9768\n",
            "Epoch 9/15\n",
            "55760/55760 [==============================] - 212s 4ms/step - loss: 0.0686 - accuracy: 0.9757\n",
            "Epoch 10/15\n",
            "55760/55760 [==============================] - 210s 4ms/step - loss: 0.0614 - accuracy: 0.9785\n",
            "Epoch 11/15\n",
            "55760/55760 [==============================] - 212s 4ms/step - loss: 0.0605 - accuracy: 0.9792\n",
            "Epoch 12/15\n",
            "55760/55760 [==============================] - 212s 4ms/step - loss: 0.0678 - accuracy: 0.9766\n",
            "Epoch 13/15\n",
            "55760/55760 [==============================] - 208s 4ms/step - loss: 0.0759 - accuracy: 0.9739\n",
            "Epoch 14/15\n",
            "55760/55760 [==============================] - 207s 4ms/step - loss: 0.0778 - accuracy: 0.9728\n",
            "Epoch 15/15\n",
            "55760/55760 [==============================] - 207s 4ms/step - loss: 0.0757 - accuracy: 0.9735\n"
          ],
          "name": "stdout"
        },
        {
          "output_type": "execute_result",
          "data": {
            "text/plain": [
              "<keras.callbacks.callbacks.History at 0x7f6be0c6b8d0>"
            ]
          },
          "metadata": {
            "tags": []
          },
          "execution_count": 297
        }
      ]
    },
    {
      "cell_type": "code",
      "metadata": {
        "id": "rqEvsRLiJXHR",
        "colab_type": "code",
        "colab": {}
      },
      "source": [
        "model.save('./saved_models/model_{}_{}_{}_{}.h5'.format(dataset,window_size,num_pca_components,test_ratio))"
      ],
      "execution_count": null,
      "outputs": []
    },
    {
      "cell_type": "code",
      "metadata": {
        "id": "OPZnt5vkSbqh",
        "colab_type": "code",
        "colab": {}
      },
      "source": [
        "print(model.layers[2])"
      ],
      "execution_count": null,
      "outputs": []
    }
  ]
}